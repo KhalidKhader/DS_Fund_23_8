{
  "nbformat": 4,
  "nbformat_minor": 0,
  "metadata": {
    "colab": {
      "provenance": [],
      "mount_file_id": "1CuvyLpo3xyzAxbgD4ZZ_6oHbK4hQd5hW",
      "authorship_tag": "ABX9TyPwWXoJ4vK9IstqyF8r02cV",
      "include_colab_link": true
    },
    "kernelspec": {
      "name": "python3",
      "display_name": "Python 3"
    },
    "language_info": {
      "name": "python"
    }
  },
  "cells": [
    {
      "cell_type": "markdown",
      "metadata": {
        "id": "view-in-github",
        "colab_type": "text"
      },
      "source": [
        "<a href=\"https://colab.research.google.com/github/KhalidKhader/DS_Fund_23_8/blob/main/Project_Phase_2.ipynb\" target=\"_parent\"><img src=\"https://colab.research.google.com/assets/colab-badge.svg\" alt=\"Open In Colab\"/></a>"
      ]
    },
    {
      "cell_type": "markdown",
      "source": [
        "# Imports"
      ],
      "metadata": {
        "id": "Gvs4CEzXHqWT"
      }
    },
    {
      "cell_type": "code",
      "source": [
        "import pandas as pd\n",
        "import numpy as np\n",
        "import matplotlib.pyplot as plt\n",
        "import seaborn as sns"
      ],
      "metadata": {
        "id": "ybv2ARDYHsvu"
      },
      "execution_count": 1,
      "outputs": []
    },
    {
      "cell_type": "markdown",
      "source": [
        "#LOADING DATA"
      ],
      "metadata": {
        "id": "rqtrHsP2HtEg"
      }
    },
    {
      "cell_type": "code",
      "source": [
        "path = 'https://docs.google.com/spreadsheets/d/e/2PACX-1vRz5oaBgbdiqB7uuCThtSDZkuQ6PVnah-MIhF81nIhaee2YT0rHhLnhLPNBuZYUNO00U4YZRDqaL8ig/pub?gid=1930592101&single=true&output=csv'\n",
        "data = pd.read_csv(path)\n",
        "copy_data = data.copy()\n",
        "data"
      ],
      "metadata": {
        "colab": {
          "base_uri": "https://localhost:8080/",
          "height": 669
        },
        "id": "zs7KC5gxHtSt",
        "outputId": "46a3044b-1ff7-40b4-e249-31bb6f59cc32"
      },
      "execution_count": 25,
      "outputs": [
        {
          "output_type": "execute_result",
          "data": {
            "text/plain": [
              "     Unnamed: 0  work_year experience_level employment_type  \\\n",
              "0             0       2020               MI              FT   \n",
              "1             1       2020               SE              FT   \n",
              "2             2       2020               SE              FT   \n",
              "3             3       2020               MI              FT   \n",
              "4             4       2020               SE              FT   \n",
              "..          ...        ...              ...             ...   \n",
              "602         602       2022              NaN              FT   \n",
              "603         603       2022              NaN              FT   \n",
              "604         604       2022               SE              FT   \n",
              "605         605       2022               SE              FT   \n",
              "606         606       2022               MI              FT   \n",
              "\n",
              "                      job_title  salary salary_currency  salary_in_usd  \\\n",
              "0                Data Scientist   70000             EUR        79833.0   \n",
              "1    Machine Learning Scientist  260000             USD       260000.0   \n",
              "2             Big Data Engineer   85000             GBP       109024.0   \n",
              "3          Product Data Analyst   20000             USD        20000.0   \n",
              "4     Machine Learning Engineer  150000             USD       150000.0   \n",
              "..                          ...     ...             ...            ...   \n",
              "602               Data Engineer  154000             USD       154000.0   \n",
              "603               Data Engineer  126000             USD       126000.0   \n",
              "604                Data Analyst  129000             USD            NaN   \n",
              "605                Data Analyst  150000             USD       150000.0   \n",
              "606                AI Scientist  200000             USD       200000.0   \n",
              "\n",
              "    employee_residence  remote_ratio company_location company_size  \n",
              "0                   DE             0               DE            L  \n",
              "1                   JP             0               JP            S  \n",
              "2                   GB            50               GB            M  \n",
              "3                   HN             0               HN            S  \n",
              "4                   US            50               US            L  \n",
              "..                 ...           ...              ...          ...  \n",
              "602                 US           100               US            M  \n",
              "603                 US           100               US            M  \n",
              "604                 US             0               US            M  \n",
              "605                 US           100               US            M  \n",
              "606                 IN           100               US            L  \n",
              "\n",
              "[607 rows x 12 columns]"
            ],
            "text/html": [
              "\n",
              "  <div id=\"df-4b1fad95-749d-45f1-84b8-044472fb4ec8\" class=\"colab-df-container\">\n",
              "    <div>\n",
              "<style scoped>\n",
              "    .dataframe tbody tr th:only-of-type {\n",
              "        vertical-align: middle;\n",
              "    }\n",
              "\n",
              "    .dataframe tbody tr th {\n",
              "        vertical-align: top;\n",
              "    }\n",
              "\n",
              "    .dataframe thead th {\n",
              "        text-align: right;\n",
              "    }\n",
              "</style>\n",
              "<table border=\"1\" class=\"dataframe\">\n",
              "  <thead>\n",
              "    <tr style=\"text-align: right;\">\n",
              "      <th></th>\n",
              "      <th>Unnamed: 0</th>\n",
              "      <th>work_year</th>\n",
              "      <th>experience_level</th>\n",
              "      <th>employment_type</th>\n",
              "      <th>job_title</th>\n",
              "      <th>salary</th>\n",
              "      <th>salary_currency</th>\n",
              "      <th>salary_in_usd</th>\n",
              "      <th>employee_residence</th>\n",
              "      <th>remote_ratio</th>\n",
              "      <th>company_location</th>\n",
              "      <th>company_size</th>\n",
              "    </tr>\n",
              "  </thead>\n",
              "  <tbody>\n",
              "    <tr>\n",
              "      <th>0</th>\n",
              "      <td>0</td>\n",
              "      <td>2020</td>\n",
              "      <td>MI</td>\n",
              "      <td>FT</td>\n",
              "      <td>Data Scientist</td>\n",
              "      <td>70000</td>\n",
              "      <td>EUR</td>\n",
              "      <td>79833.0</td>\n",
              "      <td>DE</td>\n",
              "      <td>0</td>\n",
              "      <td>DE</td>\n",
              "      <td>L</td>\n",
              "    </tr>\n",
              "    <tr>\n",
              "      <th>1</th>\n",
              "      <td>1</td>\n",
              "      <td>2020</td>\n",
              "      <td>SE</td>\n",
              "      <td>FT</td>\n",
              "      <td>Machine Learning Scientist</td>\n",
              "      <td>260000</td>\n",
              "      <td>USD</td>\n",
              "      <td>260000.0</td>\n",
              "      <td>JP</td>\n",
              "      <td>0</td>\n",
              "      <td>JP</td>\n",
              "      <td>S</td>\n",
              "    </tr>\n",
              "    <tr>\n",
              "      <th>2</th>\n",
              "      <td>2</td>\n",
              "      <td>2020</td>\n",
              "      <td>SE</td>\n",
              "      <td>FT</td>\n",
              "      <td>Big Data Engineer</td>\n",
              "      <td>85000</td>\n",
              "      <td>GBP</td>\n",
              "      <td>109024.0</td>\n",
              "      <td>GB</td>\n",
              "      <td>50</td>\n",
              "      <td>GB</td>\n",
              "      <td>M</td>\n",
              "    </tr>\n",
              "    <tr>\n",
              "      <th>3</th>\n",
              "      <td>3</td>\n",
              "      <td>2020</td>\n",
              "      <td>MI</td>\n",
              "      <td>FT</td>\n",
              "      <td>Product Data Analyst</td>\n",
              "      <td>20000</td>\n",
              "      <td>USD</td>\n",
              "      <td>20000.0</td>\n",
              "      <td>HN</td>\n",
              "      <td>0</td>\n",
              "      <td>HN</td>\n",
              "      <td>S</td>\n",
              "    </tr>\n",
              "    <tr>\n",
              "      <th>4</th>\n",
              "      <td>4</td>\n",
              "      <td>2020</td>\n",
              "      <td>SE</td>\n",
              "      <td>FT</td>\n",
              "      <td>Machine Learning Engineer</td>\n",
              "      <td>150000</td>\n",
              "      <td>USD</td>\n",
              "      <td>150000.0</td>\n",
              "      <td>US</td>\n",
              "      <td>50</td>\n",
              "      <td>US</td>\n",
              "      <td>L</td>\n",
              "    </tr>\n",
              "    <tr>\n",
              "      <th>...</th>\n",
              "      <td>...</td>\n",
              "      <td>...</td>\n",
              "      <td>...</td>\n",
              "      <td>...</td>\n",
              "      <td>...</td>\n",
              "      <td>...</td>\n",
              "      <td>...</td>\n",
              "      <td>...</td>\n",
              "      <td>...</td>\n",
              "      <td>...</td>\n",
              "      <td>...</td>\n",
              "      <td>...</td>\n",
              "    </tr>\n",
              "    <tr>\n",
              "      <th>602</th>\n",
              "      <td>602</td>\n",
              "      <td>2022</td>\n",
              "      <td>NaN</td>\n",
              "      <td>FT</td>\n",
              "      <td>Data Engineer</td>\n",
              "      <td>154000</td>\n",
              "      <td>USD</td>\n",
              "      <td>154000.0</td>\n",
              "      <td>US</td>\n",
              "      <td>100</td>\n",
              "      <td>US</td>\n",
              "      <td>M</td>\n",
              "    </tr>\n",
              "    <tr>\n",
              "      <th>603</th>\n",
              "      <td>603</td>\n",
              "      <td>2022</td>\n",
              "      <td>NaN</td>\n",
              "      <td>FT</td>\n",
              "      <td>Data Engineer</td>\n",
              "      <td>126000</td>\n",
              "      <td>USD</td>\n",
              "      <td>126000.0</td>\n",
              "      <td>US</td>\n",
              "      <td>100</td>\n",
              "      <td>US</td>\n",
              "      <td>M</td>\n",
              "    </tr>\n",
              "    <tr>\n",
              "      <th>604</th>\n",
              "      <td>604</td>\n",
              "      <td>2022</td>\n",
              "      <td>SE</td>\n",
              "      <td>FT</td>\n",
              "      <td>Data Analyst</td>\n",
              "      <td>129000</td>\n",
              "      <td>USD</td>\n",
              "      <td>NaN</td>\n",
              "      <td>US</td>\n",
              "      <td>0</td>\n",
              "      <td>US</td>\n",
              "      <td>M</td>\n",
              "    </tr>\n",
              "    <tr>\n",
              "      <th>605</th>\n",
              "      <td>605</td>\n",
              "      <td>2022</td>\n",
              "      <td>SE</td>\n",
              "      <td>FT</td>\n",
              "      <td>Data Analyst</td>\n",
              "      <td>150000</td>\n",
              "      <td>USD</td>\n",
              "      <td>150000.0</td>\n",
              "      <td>US</td>\n",
              "      <td>100</td>\n",
              "      <td>US</td>\n",
              "      <td>M</td>\n",
              "    </tr>\n",
              "    <tr>\n",
              "      <th>606</th>\n",
              "      <td>606</td>\n",
              "      <td>2022</td>\n",
              "      <td>MI</td>\n",
              "      <td>FT</td>\n",
              "      <td>AI Scientist</td>\n",
              "      <td>200000</td>\n",
              "      <td>USD</td>\n",
              "      <td>200000.0</td>\n",
              "      <td>IN</td>\n",
              "      <td>100</td>\n",
              "      <td>US</td>\n",
              "      <td>L</td>\n",
              "    </tr>\n",
              "  </tbody>\n",
              "</table>\n",
              "<p>607 rows × 12 columns</p>\n",
              "</div>\n",
              "    <div class=\"colab-df-buttons\">\n",
              "\n",
              "  <div class=\"colab-df-container\">\n",
              "    <button class=\"colab-df-convert\" onclick=\"convertToInteractive('df-4b1fad95-749d-45f1-84b8-044472fb4ec8')\"\n",
              "            title=\"Convert this dataframe to an interactive table.\"\n",
              "            style=\"display:none;\">\n",
              "\n",
              "  <svg xmlns=\"http://www.w3.org/2000/svg\" height=\"24px\" viewBox=\"0 -960 960 960\">\n",
              "    <path d=\"M120-120v-720h720v720H120Zm60-500h600v-160H180v160Zm220 220h160v-160H400v160Zm0 220h160v-160H400v160ZM180-400h160v-160H180v160Zm440 0h160v-160H620v160ZM180-180h160v-160H180v160Zm440 0h160v-160H620v160Z\"/>\n",
              "  </svg>\n",
              "    </button>\n",
              "\n",
              "  <style>\n",
              "    .colab-df-container {\n",
              "      display:flex;\n",
              "      gap: 12px;\n",
              "    }\n",
              "\n",
              "    .colab-df-convert {\n",
              "      background-color: #E8F0FE;\n",
              "      border: none;\n",
              "      border-radius: 50%;\n",
              "      cursor: pointer;\n",
              "      display: none;\n",
              "      fill: #1967D2;\n",
              "      height: 32px;\n",
              "      padding: 0 0 0 0;\n",
              "      width: 32px;\n",
              "    }\n",
              "\n",
              "    .colab-df-convert:hover {\n",
              "      background-color: #E2EBFA;\n",
              "      box-shadow: 0px 1px 2px rgba(60, 64, 67, 0.3), 0px 1px 3px 1px rgba(60, 64, 67, 0.15);\n",
              "      fill: #174EA6;\n",
              "    }\n",
              "\n",
              "    .colab-df-buttons div {\n",
              "      margin-bottom: 4px;\n",
              "    }\n",
              "\n",
              "    [theme=dark] .colab-df-convert {\n",
              "      background-color: #3B4455;\n",
              "      fill: #D2E3FC;\n",
              "    }\n",
              "\n",
              "    [theme=dark] .colab-df-convert:hover {\n",
              "      background-color: #434B5C;\n",
              "      box-shadow: 0px 1px 3px 1px rgba(0, 0, 0, 0.15);\n",
              "      filter: drop-shadow(0px 1px 2px rgba(0, 0, 0, 0.3));\n",
              "      fill: #FFFFFF;\n",
              "    }\n",
              "  </style>\n",
              "\n",
              "    <script>\n",
              "      const buttonEl =\n",
              "        document.querySelector('#df-4b1fad95-749d-45f1-84b8-044472fb4ec8 button.colab-df-convert');\n",
              "      buttonEl.style.display =\n",
              "        google.colab.kernel.accessAllowed ? 'block' : 'none';\n",
              "\n",
              "      async function convertToInteractive(key) {\n",
              "        const element = document.querySelector('#df-4b1fad95-749d-45f1-84b8-044472fb4ec8');\n",
              "        const dataTable =\n",
              "          await google.colab.kernel.invokeFunction('convertToInteractive',\n",
              "                                                    [key], {});\n",
              "        if (!dataTable) return;\n",
              "\n",
              "        const docLinkHtml = 'Like what you see? Visit the ' +\n",
              "          '<a target=\"_blank\" href=https://colab.research.google.com/notebooks/data_table.ipynb>data table notebook</a>'\n",
              "          + ' to learn more about interactive tables.';\n",
              "        element.innerHTML = '';\n",
              "        dataTable['output_type'] = 'display_data';\n",
              "        await google.colab.output.renderOutput(dataTable, element);\n",
              "        const docLink = document.createElement('div');\n",
              "        docLink.innerHTML = docLinkHtml;\n",
              "        element.appendChild(docLink);\n",
              "      }\n",
              "    </script>\n",
              "  </div>\n",
              "\n",
              "\n",
              "<div id=\"df-8b8b74df-21af-44d2-990b-5821f8431cf8\">\n",
              "  <button class=\"colab-df-quickchart\" onclick=\"quickchart('df-8b8b74df-21af-44d2-990b-5821f8431cf8')\"\n",
              "            title=\"Suggest charts.\"\n",
              "            style=\"display:none;\">\n",
              "\n",
              "<svg xmlns=\"http://www.w3.org/2000/svg\" height=\"24px\"viewBox=\"0 0 24 24\"\n",
              "     width=\"24px\">\n",
              "    <g>\n",
              "        <path d=\"M19 3H5c-1.1 0-2 .9-2 2v14c0 1.1.9 2 2 2h14c1.1 0 2-.9 2-2V5c0-1.1-.9-2-2-2zM9 17H7v-7h2v7zm4 0h-2V7h2v10zm4 0h-2v-4h2v4z\"/>\n",
              "    </g>\n",
              "</svg>\n",
              "  </button>\n",
              "\n",
              "<style>\n",
              "  .colab-df-quickchart {\n",
              "      --bg-color: #E8F0FE;\n",
              "      --fill-color: #1967D2;\n",
              "      --hover-bg-color: #E2EBFA;\n",
              "      --hover-fill-color: #174EA6;\n",
              "      --disabled-fill-color: #AAA;\n",
              "      --disabled-bg-color: #DDD;\n",
              "  }\n",
              "\n",
              "  [theme=dark] .colab-df-quickchart {\n",
              "      --bg-color: #3B4455;\n",
              "      --fill-color: #D2E3FC;\n",
              "      --hover-bg-color: #434B5C;\n",
              "      --hover-fill-color: #FFFFFF;\n",
              "      --disabled-bg-color: #3B4455;\n",
              "      --disabled-fill-color: #666;\n",
              "  }\n",
              "\n",
              "  .colab-df-quickchart {\n",
              "    background-color: var(--bg-color);\n",
              "    border: none;\n",
              "    border-radius: 50%;\n",
              "    cursor: pointer;\n",
              "    display: none;\n",
              "    fill: var(--fill-color);\n",
              "    height: 32px;\n",
              "    padding: 0;\n",
              "    width: 32px;\n",
              "  }\n",
              "\n",
              "  .colab-df-quickchart:hover {\n",
              "    background-color: var(--hover-bg-color);\n",
              "    box-shadow: 0 1px 2px rgba(60, 64, 67, 0.3), 0 1px 3px 1px rgba(60, 64, 67, 0.15);\n",
              "    fill: var(--button-hover-fill-color);\n",
              "  }\n",
              "\n",
              "  .colab-df-quickchart-complete:disabled,\n",
              "  .colab-df-quickchart-complete:disabled:hover {\n",
              "    background-color: var(--disabled-bg-color);\n",
              "    fill: var(--disabled-fill-color);\n",
              "    box-shadow: none;\n",
              "  }\n",
              "\n",
              "  .colab-df-spinner {\n",
              "    border: 2px solid var(--fill-color);\n",
              "    border-color: transparent;\n",
              "    border-bottom-color: var(--fill-color);\n",
              "    animation:\n",
              "      spin 1s steps(1) infinite;\n",
              "  }\n",
              "\n",
              "  @keyframes spin {\n",
              "    0% {\n",
              "      border-color: transparent;\n",
              "      border-bottom-color: var(--fill-color);\n",
              "      border-left-color: var(--fill-color);\n",
              "    }\n",
              "    20% {\n",
              "      border-color: transparent;\n",
              "      border-left-color: var(--fill-color);\n",
              "      border-top-color: var(--fill-color);\n",
              "    }\n",
              "    30% {\n",
              "      border-color: transparent;\n",
              "      border-left-color: var(--fill-color);\n",
              "      border-top-color: var(--fill-color);\n",
              "      border-right-color: var(--fill-color);\n",
              "    }\n",
              "    40% {\n",
              "      border-color: transparent;\n",
              "      border-right-color: var(--fill-color);\n",
              "      border-top-color: var(--fill-color);\n",
              "    }\n",
              "    60% {\n",
              "      border-color: transparent;\n",
              "      border-right-color: var(--fill-color);\n",
              "    }\n",
              "    80% {\n",
              "      border-color: transparent;\n",
              "      border-right-color: var(--fill-color);\n",
              "      border-bottom-color: var(--fill-color);\n",
              "    }\n",
              "    90% {\n",
              "      border-color: transparent;\n",
              "      border-bottom-color: var(--fill-color);\n",
              "    }\n",
              "  }\n",
              "</style>\n",
              "\n",
              "  <script>\n",
              "    async function quickchart(key) {\n",
              "      const quickchartButtonEl =\n",
              "        document.querySelector('#' + key + ' button');\n",
              "      quickchartButtonEl.disabled = true;  // To prevent multiple clicks.\n",
              "      quickchartButtonEl.classList.add('colab-df-spinner');\n",
              "      try {\n",
              "        const charts = await google.colab.kernel.invokeFunction(\n",
              "            'suggestCharts', [key], {});\n",
              "      } catch (error) {\n",
              "        console.error('Error during call to suggestCharts:', error);\n",
              "      }\n",
              "      quickchartButtonEl.classList.remove('colab-df-spinner');\n",
              "      quickchartButtonEl.classList.add('colab-df-quickchart-complete');\n",
              "    }\n",
              "    (() => {\n",
              "      let quickchartButtonEl =\n",
              "        document.querySelector('#df-8b8b74df-21af-44d2-990b-5821f8431cf8 button');\n",
              "      quickchartButtonEl.style.display =\n",
              "        google.colab.kernel.accessAllowed ? 'block' : 'none';\n",
              "    })();\n",
              "  </script>\n",
              "</div>\n",
              "    </div>\n",
              "  </div>\n"
            ]
          },
          "metadata": {},
          "execution_count": 25
        }
      ]
    },
    {
      "cell_type": "code",
      "source": [
        "copy_data.info()"
      ],
      "metadata": {
        "colab": {
          "base_uri": "https://localhost:8080/"
        },
        "id": "WsBAMAVGHtl-",
        "outputId": "635e866f-d447-47d2-aa64-2883326104fd"
      },
      "execution_count": 26,
      "outputs": [
        {
          "output_type": "stream",
          "name": "stdout",
          "text": [
            "<class 'pandas.core.frame.DataFrame'>\n",
            "RangeIndex: 607 entries, 0 to 606\n",
            "Data columns (total 12 columns):\n",
            " #   Column              Non-Null Count  Dtype  \n",
            "---  ------              --------------  -----  \n",
            " 0   Unnamed: 0          607 non-null    int64  \n",
            " 1   work_year           607 non-null    int64  \n",
            " 2   experience_level    589 non-null    object \n",
            " 3   employment_type     607 non-null    object \n",
            " 4   job_title           607 non-null    object \n",
            " 5   salary              607 non-null    object \n",
            " 6   salary_currency     607 non-null    object \n",
            " 7   salary_in_usd       587 non-null    float64\n",
            " 8   employee_residence  607 non-null    object \n",
            " 9   remote_ratio        607 non-null    int64  \n",
            " 10  company_location    607 non-null    object \n",
            " 11  company_size        607 non-null    object \n",
            "dtypes: float64(1), int64(3), object(8)\n",
            "memory usage: 57.0+ KB\n"
          ]
        }
      ]
    },
    {
      "cell_type": "code",
      "source": [
        "copy_data.isna().sum()"
      ],
      "metadata": {
        "colab": {
          "base_uri": "https://localhost:8080/"
        },
        "id": "7dLpIaQCItRs",
        "outputId": "cf60c9ee-841b-4c92-c272-288dc71c2855"
      },
      "execution_count": 27,
      "outputs": [
        {
          "output_type": "execute_result",
          "data": {
            "text/plain": [
              "Unnamed: 0             0\n",
              "work_year              0\n",
              "experience_level      18\n",
              "employment_type        0\n",
              "job_title              0\n",
              "salary                 0\n",
              "salary_currency        0\n",
              "salary_in_usd         20\n",
              "employee_residence     0\n",
              "remote_ratio           0\n",
              "company_location       0\n",
              "company_size           0\n",
              "dtype: int64"
            ]
          },
          "metadata": {},
          "execution_count": 27
        }
      ]
    },
    {
      "cell_type": "markdown",
      "source": [
        "# Data Cleaning"
      ],
      "metadata": {
        "id": "gTq8VYBsJNnD"
      }
    },
    {
      "cell_type": "markdown",
      "source": [
        "### How many rows and columns?\n",
        "\n"
      ],
      "metadata": {
        "id": "QqO4JVLiK1QX"
      }
    },
    {
      "cell_type": "code",
      "source": [
        "copy_data.shape"
      ],
      "metadata": {
        "colab": {
          "base_uri": "https://localhost:8080/"
        },
        "id": "0o1_nqG_Itce",
        "outputId": "133703f8-40f7-421a-ca31-62489eab1c3a"
      },
      "execution_count": 28,
      "outputs": [
        {
          "output_type": "execute_result",
          "data": {
            "text/plain": [
              "(607, 12)"
            ]
          },
          "metadata": {},
          "execution_count": 28
        }
      ]
    },
    {
      "cell_type": "markdown",
      "source": [
        "### What are the datatypes of each variable?"
      ],
      "metadata": {
        "id": "ZSJgjbddK6N4"
      }
    },
    {
      "cell_type": "code",
      "source": [
        "copy_data.dtypes"
      ],
      "metadata": {
        "colab": {
          "base_uri": "https://localhost:8080/"
        },
        "id": "ryVkjml2Itjn",
        "outputId": "1bc5fa4f-f93a-4331-fdf9-64b7eafb4d89"
      },
      "execution_count": 29,
      "outputs": [
        {
          "output_type": "execute_result",
          "data": {
            "text/plain": [
              "Unnamed: 0              int64\n",
              "work_year               int64\n",
              "experience_level       object\n",
              "employment_type        object\n",
              "job_title              object\n",
              "salary                 object\n",
              "salary_currency        object\n",
              "salary_in_usd         float64\n",
              "employee_residence     object\n",
              "remote_ratio            int64\n",
              "company_location       object\n",
              "company_size           object\n",
              "dtype: object"
            ]
          },
          "metadata": {},
          "execution_count": 29
        }
      ]
    },
    {
      "cell_type": "markdown",
      "source": [
        "### Drop un needed columns\n",
        "\n",
        "\n"
      ],
      "metadata": {
        "id": "3G9OMS9CK-_q"
      }
    },
    {
      "cell_type": "code",
      "source": [
        "copy_data = copy_data.drop(columns=['Unnamed: 0'])"
      ],
      "metadata": {
        "id": "e5_Uk2JCJXPf"
      },
      "execution_count": 30,
      "outputs": []
    },
    {
      "cell_type": "code",
      "source": [
        "copy_data.info()"
      ],
      "metadata": {
        "colab": {
          "base_uri": "https://localhost:8080/"
        },
        "id": "m5jaZHqQJXSu",
        "outputId": "81ee25ef-2a44-46eb-d0f8-b6a025c7d155"
      },
      "execution_count": 31,
      "outputs": [
        {
          "output_type": "stream",
          "name": "stdout",
          "text": [
            "<class 'pandas.core.frame.DataFrame'>\n",
            "RangeIndex: 607 entries, 0 to 606\n",
            "Data columns (total 11 columns):\n",
            " #   Column              Non-Null Count  Dtype  \n",
            "---  ------              --------------  -----  \n",
            " 0   work_year           607 non-null    int64  \n",
            " 1   experience_level    589 non-null    object \n",
            " 2   employment_type     607 non-null    object \n",
            " 3   job_title           607 non-null    object \n",
            " 4   salary              607 non-null    object \n",
            " 5   salary_currency     607 non-null    object \n",
            " 6   salary_in_usd       587 non-null    float64\n",
            " 7   employee_residence  607 non-null    object \n",
            " 8   remote_ratio        607 non-null    int64  \n",
            " 9   company_location    607 non-null    object \n",
            " 10  company_size        607 non-null    object \n",
            "dtypes: float64(1), int64(2), object(8)\n",
            "memory usage: 52.3+ KB\n"
          ]
        }
      ]
    },
    {
      "cell_type": "markdown",
      "source": [
        "### Are there duplicates? If so, drop any duplicates."
      ],
      "metadata": {
        "id": "7A7mVOIxMM__"
      }
    },
    {
      "cell_type": "code",
      "source": [
        "copy_data.duplicated().sum()"
      ],
      "metadata": {
        "colab": {
          "base_uri": "https://localhost:8080/"
        },
        "id": "kOLWyc2WJXU0",
        "outputId": "ddfe22c6-9235-4a2a-bbca-5db4a4efbe4c"
      },
      "execution_count": 32,
      "outputs": [
        {
          "output_type": "execute_result",
          "data": {
            "text/plain": [
              "32"
            ]
          },
          "metadata": {},
          "execution_count": 32
        }
      ]
    },
    {
      "cell_type": "code",
      "source": [
        "copy_data.drop_duplicates(inplace = True)"
      ],
      "metadata": {
        "id": "COh-MYA9JXXE"
      },
      "execution_count": 33,
      "outputs": []
    },
    {
      "cell_type": "code",
      "source": [
        "copy_data.duplicated().sum()"
      ],
      "metadata": {
        "colab": {
          "base_uri": "https://localhost:8080/"
        },
        "id": "ZpgTWwI5MkMh",
        "outputId": "869b4fbf-2c02-4700-ea10-d8d8b28db4bc"
      },
      "execution_count": 34,
      "outputs": [
        {
          "output_type": "execute_result",
          "data": {
            "text/plain": [
              "0"
            ]
          },
          "metadata": {},
          "execution_count": 34
        }
      ]
    },
    {
      "cell_type": "markdown",
      "source": [
        "### Missing Values"
      ],
      "metadata": {
        "id": "r6S6HDfaHttR"
      }
    },
    {
      "cell_type": "code",
      "source": [
        "copy_data.isna().sum()"
      ],
      "metadata": {
        "colab": {
          "base_uri": "https://localhost:8080/"
        },
        "id": "ltwvQyo9NDaB",
        "outputId": "f7a52738-0095-4767-8cf5-6355d96b0c59"
      },
      "execution_count": 35,
      "outputs": [
        {
          "output_type": "execute_result",
          "data": {
            "text/plain": [
              "work_year              0\n",
              "experience_level      18\n",
              "employment_type        0\n",
              "job_title              0\n",
              "salary                 0\n",
              "salary_currency        0\n",
              "salary_in_usd         20\n",
              "employee_residence     0\n",
              "remote_ratio           0\n",
              "company_location       0\n",
              "company_size           0\n",
              "dtype: int64"
            ]
          },
          "metadata": {},
          "execution_count": 35
        }
      ]
    },
    {
      "cell_type": "code",
      "source": [
        "round(copy_data.isna().sum() / len(copy_data) *100 , 2)"
      ],
      "metadata": {
        "colab": {
          "base_uri": "https://localhost:8080/"
        },
        "id": "AKx929csNDcW",
        "outputId": "eb868209-b592-4830-d332-6d5718a7f36d"
      },
      "execution_count": 37,
      "outputs": [
        {
          "output_type": "execute_result",
          "data": {
            "text/plain": [
              "work_year             0.00\n",
              "experience_level      3.13\n",
              "employment_type       0.00\n",
              "job_title             0.00\n",
              "salary                0.00\n",
              "salary_currency       0.00\n",
              "salary_in_usd         3.48\n",
              "employee_residence    0.00\n",
              "remote_ratio          0.00\n",
              "company_location      0.00\n",
              "company_size          0.00\n",
              "dtype: float64"
            ]
          },
          "metadata": {},
          "execution_count": 37
        }
      ]
    },
    {
      "cell_type": "code",
      "source": [
        "copy_data['experience_level'].value_counts()"
      ],
      "metadata": {
        "colab": {
          "base_uri": "https://localhost:8080/"
        },
        "id": "jaZt3rV7N5pC",
        "outputId": "41a4b27a-7eca-486e-d9ef-b842e5519193"
      },
      "execution_count": 38,
      "outputs": [
        {
          "output_type": "execute_result",
          "data": {
            "text/plain": [
              "SE    244\n",
              "MI    206\n",
              "EN     85\n",
              "EX     22\n",
              "Name: experience_level, dtype: int64"
            ]
          },
          "metadata": {},
          "execution_count": 38
        }
      ]
    },
    {
      "cell_type": "code",
      "source": [
        "plt.style.use(['dark_background','seaborn-muted', 'seaborn-poster'])\n",
        "ax = sns.countplot(data = copy_data, x = 'experience_level');"
      ],
      "metadata": {
        "colab": {
          "base_uri": "https://localhost:8080/",
          "height": 876
        },
        "id": "DLlCKpxWN8_7",
        "outputId": "e211cad6-3b50-4efb-eeb7-35ad560bfd56"
      },
      "execution_count": 40,
      "outputs": [
        {
          "output_type": "stream",
          "name": "stderr",
          "text": [
            "<ipython-input-40-f4ca2bf35260>:1: MatplotlibDeprecationWarning: The seaborn styles shipped by Matplotlib are deprecated since 3.6, as they no longer correspond to the styles shipped by seaborn. However, they will remain available as 'seaborn-v0_8-<style>'. Alternatively, directly use the seaborn API instead.\n",
            "  plt.style.use(['dark_background','seaborn-muted', 'seaborn-poster'])\n",
            "<ipython-input-40-f4ca2bf35260>:1: MatplotlibDeprecationWarning: The seaborn styles shipped by Matplotlib are deprecated since 3.6, as they no longer correspond to the styles shipped by seaborn. However, they will remain available as 'seaborn-v0_8-<style>'. Alternatively, directly use the seaborn API instead.\n",
            "  plt.style.use(['dark_background','seaborn-muted', 'seaborn-poster'])\n"
          ]
        },
        {
          "output_type": "display_data",
          "data": {
            "text/plain": [
              "<Figure size 1280x880 with 1 Axes>"
            ],
            "image/png": "[encoded data removed]"
          },
          "metadata": {}
        }
      ]
    },
    {
      "cell_type": "code",
      "source": [
        "copy_data['experience_level'] = copy_data['experience_level'].fillna(value = 'Unknown')\n",
        "copy_data['experience_level'].value_counts()"
      ],
      "metadata": {
        "colab": {
          "base_uri": "https://localhost:8080/"
        },
        "id": "VmreX9TyNDeJ",
        "outputId": "5cd90aa1-97b6-4660-cc0e-e7e860ec3008"
      },
      "execution_count": 42,
      "outputs": [
        {
          "output_type": "execute_result",
          "data": {
            "text/plain": [
              "SE         244\n",
              "MI         206\n",
              "EN          85\n",
              "EX          22\n",
              "Unknown     18\n",
              "Name: experience_level, dtype: int64"
            ]
          },
          "metadata": {},
          "execution_count": 42
        }
      ]
    },
    {
      "cell_type": "code",
      "source": [
        "copy_data.isna().sum()"
      ],
      "metadata": {
        "colab": {
          "base_uri": "https://localhost:8080/"
        },
        "id": "iXnRiTN_OSgT",
        "outputId": "a5fae4d9-c954-464b-f6f1-8a35ccde4a7e"
      },
      "execution_count": 44,
      "outputs": [
        {
          "output_type": "execute_result",
          "data": {
            "text/plain": [
              "work_year              0\n",
              "experience_level       0\n",
              "employment_type        0\n",
              "job_title              0\n",
              "salary                 0\n",
              "salary_currency        0\n",
              "salary_in_usd         20\n",
              "employee_residence     0\n",
              "remote_ratio           0\n",
              "company_location       0\n",
              "company_size           0\n",
              "dtype: int64"
            ]
          },
          "metadata": {},
          "execution_count": 44
        }
      ]
    },
    {
      "cell_type": "code",
      "source": [
        "ax = sns.histplot(data = copy_data, x = 'salary_in_usd')"
      ],
      "metadata": {
        "colab": {
          "base_uri": "https://localhost:8080/",
          "height": 785
        },
        "id": "3bYEWKO4OdDt",
        "outputId": "8ec61b80-672f-446e-bc10-f1f08551ad5c"
      },
      "execution_count": 45,
      "outputs": [
        {
          "output_type": "display_data",
          "data": {
            "text/plain": [
              "<Figure size 1280x880 with 1 Axes>"
            ],
            "image/png": "[encoded data removed]"
          },
          "metadata": {}
        }
      ]
    },
    {
      "cell_type": "code",
      "source": [
        "print(f\"{copy_data['salary_in_usd'].mean():.2f}\")\n",
        "print(f\"{copy_data['salary_in_usd'].median():.2f}\")"
      ],
      "metadata": {
        "colab": {
          "base_uri": "https://localhost:8080/"
        },
        "id": "5nndEmAJOlch",
        "outputId": "ab9c4a3f-e5d2-4c91-fd13-c781bb9bdc44"
      },
      "execution_count": 47,
      "outputs": [
        {
          "output_type": "stream",
          "name": "stdout",
          "text": [
            "110239.92\n",
            "100000.00\n"
          ]
        }
      ]
    },
    {
      "cell_type": "markdown",
      "source": [
        "### Fill With Median"
      ],
      "metadata": {
        "id": "afED9MgTQohp"
      }
    },
    {
      "cell_type": "code",
      "source": [
        "midean_value = copy_data['salary_in_usd'].median()\n",
        "copy_data['salary_in_usd'] = copy_data['salary_in_usd'].fillna(midean_value)"
      ],
      "metadata": {
        "id": "M3dT7g0IQqqS"
      },
      "execution_count": 48,
      "outputs": []
    },
    {
      "cell_type": "code",
      "source": [
        "copy_data.isna().sum()"
      ],
      "metadata": {
        "colab": {
          "base_uri": "https://localhost:8080/"
        },
        "id": "tEjOUVUsQ7FJ",
        "outputId": "63e21538-6146-48ee-ea96-ad3d0f5570a9"
      },
      "execution_count": 49,
      "outputs": [
        {
          "output_type": "execute_result",
          "data": {
            "text/plain": [
              "work_year             0\n",
              "experience_level      0\n",
              "employment_type       0\n",
              "job_title             0\n",
              "salary                0\n",
              "salary_currency       0\n",
              "salary_in_usd         0\n",
              "employee_residence    0\n",
              "remote_ratio          0\n",
              "company_location      0\n",
              "company_size          0\n",
              "dtype: int64"
            ]
          },
          "metadata": {},
          "execution_count": 49
        }
      ]
    },
    {
      "cell_type": "markdown",
      "source": [
        "### Fix Data Types"
      ],
      "metadata": {
        "id": "WNsqWNAHREdT"
      }
    },
    {
      "cell_type": "code",
      "source": [
        "copy_data.info()"
      ],
      "metadata": {
        "colab": {
          "base_uri": "https://localhost:8080/"
        },
        "id": "c0MewTSXRExd",
        "outputId": "75c60705-a511-4732-d7b1-df70acaa8cb1"
      },
      "execution_count": 51,
      "outputs": [
        {
          "output_type": "stream",
          "name": "stdout",
          "text": [
            "<class 'pandas.core.frame.DataFrame'>\n",
            "Int64Index: 575 entries, 0 to 606\n",
            "Data columns (total 11 columns):\n",
            " #   Column              Non-Null Count  Dtype  \n",
            "---  ------              --------------  -----  \n",
            " 0   work_year           575 non-null    int64  \n",
            " 1   experience_level    575 non-null    object \n",
            " 2   employment_type     575 non-null    object \n",
            " 3   job_title           575 non-null    object \n",
            " 4   salary              575 non-null    object \n",
            " 5   salary_currency     575 non-null    object \n",
            " 6   salary_in_usd       575 non-null    float64\n",
            " 7   employee_residence  575 non-null    object \n",
            " 8   remote_ratio        575 non-null    int64  \n",
            " 9   company_location    575 non-null    object \n",
            " 10  company_size        575 non-null    object \n",
            "dtypes: float64(1), int64(2), object(8)\n",
            "memory usage: 53.9+ KB\n"
          ]
        }
      ]
    },
    {
      "cell_type": "code",
      "source": [
        "pd.set_option('display.max_rows', None)\n",
        "copy_data['salary'].value_counts()"
      ],
      "metadata": {
        "colab": {
          "base_uri": "https://localhost:8080/"
        },
        "id": "Cw6apPBYRKl6",
        "outputId": "5fc2b421-1526-4cb5-fc04-8980482e294b"
      },
      "execution_count": 53,
      "outputs": [
        {
          "output_type": "execute_result",
          "data": {
            "text/plain": [
              "80000       18\n",
              "120000      15\n",
              "100000      15\n",
              "60000       14\n",
              "150000      14\n",
              "50000       12\n",
              "75000       11\n",
              "200000      10\n",
              "130000      10\n",
              "70000       10\n",
              "90000       10\n",
              "135000       9\n",
              "160000       8\n",
              "180000       8\n",
              "110000       8\n",
              "40000        8\n",
              "170000       7\n",
              "65000        7\n",
              "85000        7\n",
              "55000        6\n",
              "115000       6\n",
              "45000        6\n",
              "20000        6\n",
              "105000       5\n",
              "30000        5\n",
              "48000        4\n",
              "165000       4\n",
              "58000        4\n",
              "250000       4\n",
              "450000       4\n",
              "140000       4\n",
              "35000        4\n",
              "125000       4\n",
              "140400       3\n",
              "144000       3\n",
              "235000       3\n",
              "54000        3\n",
              "220000       3\n",
              "12000        3\n",
              "59000        3\n",
              "205300       3\n",
              "42000        3\n",
              "112900       3\n",
              "81666        2\n",
              "153000       2\n",
              "53000        2\n",
              "240000       2\n",
              "102100       2\n",
              "167000       2\n",
              "106260       2\n",
              "126500       2\n",
              "7000000      2\n",
              "24000        2\n",
              "160080       2\n",
              "220110       2\n",
              "132320       2\n",
              "225000       2\n",
              "38400        2\n",
              "109280       2\n",
              "155000       2\n",
              "210000       2\n",
              "95000        2\n",
              "4000         2\n",
              "115934       2\n",
              "147000       2\n",
              "215300       2\n",
              "174000       2\n",
              "52000        2\n",
              "145000       2\n",
              "21000        2\n",
              "185000       2\n",
              "230000       2\n",
              "260000       2\n",
              "175000       2\n",
              "93700        2\n",
              "128875       2\n",
              "1400000      2\n",
              "82500        2\n",
              "90320        2\n",
              "423000       2\n",
              "3000000      2\n",
              "88000        2\n",
              "67000        2\n",
              "34000        2\n",
              "43200        2\n",
              "87000        2\n",
              "157000       2\n",
              "11000000     2\n",
              "10000        2\n",
              "81000        2\n",
              "62000        2\n",
              "161342       1\n",
              "137141       1\n",
              "211500       1\n",
              "192400       1\n",
              "90700        1\n",
              "61300        1\n",
              "29000        1\n",
              "138600       1\n",
              "136000       1\n",
              "189650       1\n",
              "95550        1\n",
              "164996       1\n",
              "116150       1\n",
              "132000       1\n",
              "208775       1\n",
              "147800       1\n",
              "136994       1\n",
              "113000       1\n",
              "167875       1\n",
              "108800       1\n",
              "243900       1\n",
              "126000       1\n",
              "154000       1\n",
              "150260       1\n",
              "124190       1\n",
              "115500       1\n",
              "144854       1\n",
              "165400       1\n",
              "136600       1\n",
              "156600       1\n",
              "192564       1\n",
              "110925       1\n",
              "25000        1\n",
              "150075       1\n",
              "69000        1\n",
              "224000       1\n",
              "140250       1\n",
              "101570       1\n",
              "28500        1\n",
              "175100       1\n",
              "380000       1\n",
              "213120       1\n",
              "266400       1\n",
              "192600       1\n",
              "214000       1\n",
              "78000        1\n",
              "2400000      1\n",
              "177000       1\n",
              "405000       1\n",
              "152500       1\n",
              "100800       1\n",
              "148000       1\n",
              "121000       1\n",
              "104890       1\n",
              "57000        1\n",
              "181940       1\n",
              "324000       1\n",
              "216000       1\n",
              "66500        1\n",
              "141300       1\n",
              "206699       1\n",
              "6000000      1\n",
              "209100       1\n",
              "52800        1\n",
              "164000       1\n",
              "184700       1\n",
              "70500        1\n",
              "105400       1\n",
              "200100       1\n",
              "158200       1\n",
              "176000       1\n",
              "154600       1\n",
              "82900        1\n",
              "99050        1\n",
              "183600       1\n",
              "110500       1\n",
              "99100        1\n",
              "63900        1\n",
              "112300       1\n",
              "241000       1\n",
              "159000       1\n",
              "185100       1\n",
              "39600        1\n",
              "120160       1\n",
              "130800       1\n",
              "412000       1\n",
              "190200       1\n",
              "37000        1\n",
              "400000       1\n",
              "270000       1\n",
              "68000        1\n",
              "1450000      1\n",
              "276000       1\n",
              "2200000      1\n",
              "73000        1\n",
              "37456        1\n",
              "2250000      1\n",
              "8760         1\n",
              "151000       1\n",
              "700000       1\n",
              "$100,000     1\n",
              "8500000      1\n",
              "168000       1\n",
              "13400        1\n",
              "159500       1\n",
              "51400        1\n",
              "19000        1\n",
              "138350       1\n",
              "420000       1\n",
              "118000       1\n",
              "72000        1\n",
              "190000       1\n",
              "8000         1\n",
              "4450000      1\n",
              "56000        1\n",
              "299000       1\n",
              "98000        1\n",
              "325000       1\n",
              "720000       1\n",
              "51999        1\n",
              "41000        1\n",
              "103000       1\n",
              "138000       1\n",
              "45760        1\n",
              "44000        1\n",
              "106000       1\n",
              "14000        1\n",
              "188000       1\n",
              "61500        1\n",
              "91000        1\n",
              "300000       1\n",
              "30400000     1\n",
              "1672000      1\n",
              "165220       1\n",
              "600000       1\n",
              "93000        1\n",
              "1250000      1\n",
              "4900000      1\n",
              "21600        1\n",
              "93150        1\n",
              "111775       1\n",
              "72500        1\n",
              "102000       1\n",
              "65720        1\n",
              "112000       1\n",
              "69999        1\n",
              "109000       1\n",
              "120600       1\n",
              "84900        1\n",
              "136620       1\n",
              "99360        1\n",
              "146000       1\n",
              "123000       1\n",
              "99000        1\n",
              "116000       1\n",
              "242000       1\n",
              "2100000      1\n",
              "108000       1\n",
              "76760        1\n",
              "31000        1\n",
              "22000        1\n",
              "74000        1\n",
              "152000       1\n",
              "21844        1\n",
              "18000        1\n",
              "120500       1\n",
              "9272         1\n",
              "1799997      1\n",
              "4000000      1\n",
              "195000       1\n",
              "32000        1\n",
              "69600        1\n",
              "435000       1\n",
              "2500000      1\n",
              "40900        1\n",
              "416000       1\n",
              "1200000      1\n",
              "256000       1\n",
              "1600000      1\n",
              "1335000      1\n",
              "52500        1\n",
              "129000       1\n",
              "Name: salary, dtype: int64"
            ]
          },
          "metadata": {},
          "execution_count": 53
        }
      ]
    },
    {
      "cell_type": "code",
      "source": [
        "dollar_sign = copy_data['salary'] == '$100,000'\n",
        "copy_data.loc[dollar_sign, 'salary'] = 100000\n",
        "copy_data['salary'] = copy_data['salary'].astype('int64')"
      ],
      "metadata": {
        "id": "06Af5-9mRKvZ"
      },
      "execution_count": 55,
      "outputs": []
    },
    {
      "cell_type": "code",
      "source": [
        "copy_data.info()"
      ],
      "metadata": {
        "colab": {
          "base_uri": "https://localhost:8080/"
        },
        "id": "wcsn48anSTmq",
        "outputId": "543007eb-9cab-434f-915c-6fd6e6a81521"
      },
      "execution_count": 58,
      "outputs": [
        {
          "output_type": "stream",
          "name": "stdout",
          "text": [
            "<class 'pandas.core.frame.DataFrame'>\n",
            "Int64Index: 575 entries, 0 to 606\n",
            "Data columns (total 11 columns):\n",
            " #   Column              Non-Null Count  Dtype  \n",
            "---  ------              --------------  -----  \n",
            " 0   work_year           575 non-null    int64  \n",
            " 1   experience_level    575 non-null    object \n",
            " 2   employment_type     575 non-null    object \n",
            " 3   job_title           575 non-null    object \n",
            " 4   salary              575 non-null    int64  \n",
            " 5   salary_currency     575 non-null    object \n",
            " 6   salary_in_usd       575 non-null    float64\n",
            " 7   employee_residence  575 non-null    object \n",
            " 8   remote_ratio        575 non-null    int64  \n",
            " 9   company_location    575 non-null    object \n",
            " 10  company_size        575 non-null    object \n",
            "dtypes: float64(1), int64(3), object(7)\n",
            "memory usage: 53.9+ KB\n"
          ]
        }
      ]
    },
    {
      "cell_type": "markdown",
      "source": [
        "### Inspecting Categorical Columns & Addressing Inconsistent\n"
      ],
      "metadata": {
        "id": "ZWpaHHAfSj2L"
      }
    },
    {
      "cell_type": "code",
      "source": [
        "cols = copy_data.dtypes\n",
        "str_cols = cols[cols == 'object'].index\n",
        "str_cols"
      ],
      "metadata": {
        "colab": {
          "base_uri": "https://localhost:8080/"
        },
        "id": "19YZM5tvSgoZ",
        "outputId": "907b89da-e4b5-4b8a-9e01-25a04e50004a"
      },
      "execution_count": 64,
      "outputs": [
        {
          "output_type": "execute_result",
          "data": {
            "text/plain": [
              "Index(['experience_level', 'employment_type', 'job_title', 'salary_currency',\n",
              "       'employee_residence', 'company_location', 'company_size'],\n",
              "      dtype='object')"
            ]
          },
          "metadata": {},
          "execution_count": 64
        }
      ]
    },
    {
      "cell_type": "code",
      "source": [
        "for col in str_cols:\n",
        "    print(f'- {col}:')\n",
        "    print(copy_data[col].value_counts(dropna=False))\n",
        "    print(\"\\n\\n\")"
      ],
      "metadata": {
        "colab": {
          "base_uri": "https://localhost:8080/"
        },
        "id": "abUxhveqSlG5",
        "outputId": "2147eb61-6a3b-49f7-f180-b868d69b70a3"
      },
      "execution_count": 65,
      "outputs": [
        {
          "output_type": "stream",
          "name": "stdout",
          "text": [
            "- experience_level:\n",
            "SE         244\n",
            "MI         206\n",
            "EN          85\n",
            "EX          22\n",
            "Unknown     18\n",
            "Name: experience_level, dtype: int64\n",
            "\n",
            "\n",
            "\n",
            "- employment_type:\n",
            "FT    556\n",
            "PT     10\n",
            "CT      5\n",
            "FL      4\n",
            "Name: employment_type, dtype: int64\n",
            "\n",
            "\n",
            "\n",
            "- job_title:\n",
            "Data Scientist                              102\n",
            "Data Engineer                                95\n",
            "Data Analyst                                 75\n",
            "Machine Learning Engineer                    39\n",
            "data scientist                               29\n",
            "data engr                                    28\n",
            "Research Scientist                           16\n",
            "data analyst                                 14\n",
            "Data Science Manager                         12\n",
            "Data Architect                               11\n",
            "Big Data Engineer                             8\n",
            "Machine Learning Scientist                    8\n",
            "AI Scientist                                  7\n",
            "Data Science Consultant                       7\n",
            "Director of Data Science                      7\n",
            "Data Analytics Manager                        7\n",
            "Principal Data Scientist                      7\n",
            "BI Data Analyst                               6\n",
            "ML Engineer                                   6\n",
            "Lead Data Engineer                            6\n",
            "Computer Vision Engineer                      6\n",
            "Head of Data                                  5\n",
            "Applied Data Scientist                        5\n",
            "Data Engineering Manager                      5\n",
            "Business Data Analyst                         5\n",
            "Head of Data Science                          4\n",
            "Data Analytics Engineer                       4\n",
            "Analytics Engineer                            4\n",
            "Applied Machine Learning Scientist            4\n",
            "Principal Data Engineer                       3\n",
            "Lead Data Scientist                           3\n",
            "Lead Data Analyst                             3\n",
            "Machine Learning Developer                    3\n",
            "Machine Learning Infrastructure Engineer      3\n",
            "Data Science Engineer                         3\n",
            "Computer Vision Software Engineer             3\n",
            "Financial Data Analyst                        2\n",
            "Product Data Analyst                          2\n",
            "Director of Data Engineering                  2\n",
            "Cloud Data Engineer                           2\n",
            "Principal Data Analyst                        2\n",
            "Finance Data Analyst                          1\n",
            "Data Specialist                               1\n",
            "3D Computer Vision Researcher                 1\n",
            "Big Data Architect                            1\n",
            "Staff Data Scientist                          1\n",
            "Machine Learning Manager                      1\n",
            "Marketing Data Analyst                        1\n",
            "ETL Developer                                 1\n",
            "Head of Machine Learning                      1\n",
            "NLP Engineer                                  1\n",
            "Lead Machine Learning Engineer                1\n",
            "Data Analytics Lead                           1\n",
            "Name: job_title, dtype: int64\n",
            "\n",
            "\n",
            "\n",
            "- salary_currency:\n",
            "USD    369\n",
            "EUR     93\n",
            "GBP     43\n",
            "INR     27\n",
            "CAD     18\n",
            "JPY      3\n",
            "PLN      3\n",
            "TRY      3\n",
            "CNY      2\n",
            "MXN      2\n",
            "HUF      2\n",
            "DKK      2\n",
            "SGD      2\n",
            "BRL      2\n",
            "AUD      2\n",
            "CLP      1\n",
            "CHF      1\n",
            "Name: salary_currency, dtype: int64\n",
            "\n",
            "\n",
            "\n",
            "- employee_residence:\n",
            "US    304\n",
            "GB     43\n",
            "IN     30\n",
            "CA     28\n",
            "DE     24\n",
            "FR     18\n",
            "ES     15\n",
            "GR     12\n",
            "JP      7\n",
            "PT      6\n",
            "BR      6\n",
            "PK      6\n",
            "NL      5\n",
            "PL      4\n",
            "IT      4\n",
            "RU      4\n",
            "AE      3\n",
            "AT      3\n",
            "VN      3\n",
            "TR      3\n",
            "AU      3\n",
            "RO      2\n",
            "BE      2\n",
            "SG      2\n",
            "SI      2\n",
            "DK      2\n",
            "HU      2\n",
            "NG      2\n",
            "MX      2\n",
            "BO      1\n",
            "MY      1\n",
            "TN      1\n",
            "IE      1\n",
            "DZ      1\n",
            "AR      1\n",
            "CZ      1\n",
            "JE      1\n",
            "LU      1\n",
            "PR      1\n",
            "RS      1\n",
            "EE      1\n",
            "CL      1\n",
            "HK      1\n",
            "KE      1\n",
            "MD      1\n",
            "CO      1\n",
            "IR      1\n",
            "CN      1\n",
            "MT      1\n",
            "UA      1\n",
            "IQ      1\n",
            "HN      1\n",
            "BG      1\n",
            "HR      1\n",
            "PH      1\n",
            "NZ      1\n",
            "CH      1\n",
            "Name: employee_residence, dtype: int64\n",
            "\n",
            "\n",
            "\n",
            "- company_location:\n",
            "US    327\n",
            "GB     46\n",
            "CA     29\n",
            "DE     27\n",
            "IN     24\n",
            "FR     15\n",
            "ES     14\n",
            "GR     10\n",
            "JP      6\n",
            "NL      4\n",
            "AT      4\n",
            "PT      4\n",
            "PL      4\n",
            "LU      3\n",
            "PK      3\n",
            "BR      3\n",
            "AE      3\n",
            "MX      3\n",
            "AU      3\n",
            "TR      3\n",
            "DK      3\n",
            "IT      2\n",
            "CZ      2\n",
            "SI      2\n",
            "RU      2\n",
            "CH      2\n",
            "NG      2\n",
            "CN      2\n",
            "BE      2\n",
            "VN      1\n",
            "EE      1\n",
            "AS      1\n",
            "DZ      1\n",
            "MY      1\n",
            "MD      1\n",
            "KE      1\n",
            "SG      1\n",
            "CO      1\n",
            "IR      1\n",
            "CL      1\n",
            "MT      1\n",
            "IL      1\n",
            "UA      1\n",
            "IQ      1\n",
            "RO      1\n",
            "HR      1\n",
            "NZ      1\n",
            "HU      1\n",
            "HN      1\n",
            "IE      1\n",
            "Name: company_location, dtype: int64\n",
            "\n",
            "\n",
            "\n",
            "- company_size:\n",
            "M    297\n",
            "L    195\n",
            "S     83\n",
            "Name: company_size, dtype: int64\n",
            "\n",
            "\n",
            "\n"
          ]
        }
      ]
    },
    {
      "cell_type": "code",
      "source": [
        "job_content_map = {'data scientist':'Data Scientist',\n",
        "                   'data engr':'Data Engineer',\n",
        "                   'data analyst':'Data Analyst'}\n",
        "copy_data['job_title'] = copy_data['job_title'].replace(job_content_map)\n"
      ],
      "metadata": {
        "id": "rSijAYlzSlJB"
      },
      "execution_count": 66,
      "outputs": []
    },
    {
      "cell_type": "code",
      "source": [
        "copy_data['job_title'].value_counts()"
      ],
      "metadata": {
        "colab": {
          "base_uri": "https://localhost:8080/"
        },
        "id": "YlQvT53USlMw",
        "outputId": "ba1aa905-910d-43ca-ab70-36727069b69a"
      },
      "execution_count": 68,
      "outputs": [
        {
          "output_type": "execute_result",
          "data": {
            "text/plain": [
              "Data Scientist                              131\n",
              "Data Engineer                               123\n",
              "Data Analyst                                 89\n",
              "Machine Learning Engineer                    39\n",
              "Research Scientist                           16\n",
              "Data Science Manager                         12\n",
              "Data Architect                               11\n",
              "Big Data Engineer                             8\n",
              "Machine Learning Scientist                    8\n",
              "Principal Data Scientist                      7\n",
              "AI Scientist                                  7\n",
              "Data Science Consultant                       7\n",
              "Director of Data Science                      7\n",
              "Data Analytics Manager                        7\n",
              "ML Engineer                                   6\n",
              "Computer Vision Engineer                      6\n",
              "BI Data Analyst                               6\n",
              "Lead Data Engineer                            6\n",
              "Data Engineering Manager                      5\n",
              "Business Data Analyst                         5\n",
              "Head of Data                                  5\n",
              "Applied Data Scientist                        5\n",
              "Applied Machine Learning Scientist            4\n",
              "Head of Data Science                          4\n",
              "Analytics Engineer                            4\n",
              "Data Analytics Engineer                       4\n",
              "Machine Learning Developer                    3\n",
              "Lead Data Scientist                           3\n",
              "Computer Vision Software Engineer             3\n",
              "Data Science Engineer                         3\n",
              "Principal Data Engineer                       3\n",
              "Machine Learning Infrastructure Engineer      3\n",
              "Lead Data Analyst                             3\n",
              "Cloud Data Engineer                           2\n",
              "Financial Data Analyst                        2\n",
              "Director of Data Engineering                  2\n",
              "Product Data Analyst                          2\n",
              "Principal Data Analyst                        2\n",
              "Head of Machine Learning                      1\n",
              "3D Computer Vision Researcher                 1\n",
              "NLP Engineer                                  1\n",
              "Lead Machine Learning Engineer                1\n",
              "ETL Developer                                 1\n",
              "Data Specialist                               1\n",
              "Staff Data Scientist                          1\n",
              "Big Data Architect                            1\n",
              "Finance Data Analyst                          1\n",
              "Marketing Data Analyst                        1\n",
              "Machine Learning Manager                      1\n",
              "Data Analytics Lead                           1\n",
              "Name: job_title, dtype: int64"
            ]
          },
          "metadata": {},
          "execution_count": 68
        }
      ]
    },
    {
      "cell_type": "code",
      "source": [
        "job_exp_map = {'EN':'Junior',\n",
        "               'MI':'Intermediate',\n",
        "               'SE':'Expert',\n",
        "               'EX':'Director'}"
      ],
      "metadata": {
        "id": "K2xlnPlNaza9"
      },
      "execution_count": 70,
      "outputs": []
    },
    {
      "cell_type": "code",
      "source": [
        "copy_data['experience_level'] = copy_data['experience_level'].replace(job_exp_map)\n",
        "copy_data['experience_level'].value_counts()"
      ],
      "metadata": {
        "colab": {
          "base_uri": "https://localhost:8080/"
        },
        "id": "fj_gjK3tazdU",
        "outputId": "b30e683d-dd6d-4484-f311-c2d78fed624c"
      },
      "execution_count": 71,
      "outputs": [
        {
          "output_type": "execute_result",
          "data": {
            "text/plain": [
              "Expert          244\n",
              "Intermediate    206\n",
              "Junior           85\n",
              "Director         22\n",
              "Unknown          18\n",
              "Name: experience_level, dtype: int64"
            ]
          },
          "metadata": {},
          "execution_count": 71
        }
      ]
    },
    {
      "cell_type": "code",
      "source": [
        "job_time_map =  {'FT':'Full-Time',\n",
        "                'CT':'Contract',\n",
        "                'PT':'Part-Time',\n",
        "                'FL':'Freelance',}\n"
      ],
      "metadata": {
        "id": "XnhdNFY5azl-"
      },
      "execution_count": 72,
      "outputs": []
    },
    {
      "cell_type": "code",
      "source": [
        "copy_data['employment_type'] = copy_data['employment_type'].replace(job_time_map)\n",
        "copy_data['employment_type'].value_counts()"
      ],
      "metadata": {
        "colab": {
          "base_uri": "https://localhost:8080/"
        },
        "id": "5Wg6btM5bp5a",
        "outputId": "46a6282a-5197-4401-d38a-dd1631e7052a"
      },
      "execution_count": 73,
      "outputs": [
        {
          "output_type": "execute_result",
          "data": {
            "text/plain": [
              "Full-Time    556\n",
              "Part-Time     10\n",
              "Contract       5\n",
              "Freelance      4\n",
              "Name: employment_type, dtype: int64"
            ]
          },
          "metadata": {},
          "execution_count": 73
        }
      ]
    },
    {
      "cell_type": "markdown",
      "source": [
        "### Summary Statistics for Numeric Features\n"
      ],
      "metadata": {
        "id": "3CZESaF5cMxP"
      }
    },
    {
      "cell_type": "code",
      "source": [
        "copy_data.describe().round(2)"
      ],
      "metadata": {
        "colab": {
          "base_uri": "https://localhost:8080/",
          "height": 300
        },
        "id": "yV9YaRd7cL5K",
        "outputId": "3ea81893-58b8-4129-a35c-facbec1a8370"
      },
      "execution_count": 75,
      "outputs": [
        {
          "output_type": "execute_result",
          "data": {
            "text/plain": [
              "       work_year       salary  salary_in_usd  remote_ratio\n",
              "count     575.00       575.00         575.00        575.00\n",
              "mean     2021.37    334434.87      109883.75         70.09\n",
              "std         0.70   1586130.85       71140.96         40.91\n",
              "min      2020.00      4000.00        2859.00          0.00\n",
              "25%      2021.00     68500.00       61733.50         50.00\n",
              "50%      2021.00    112300.00      100000.00        100.00\n",
              "75%      2022.00    165000.00      147400.00        100.00\n",
              "max      2022.00  30400000.00      600000.00        100.00"
            ],
            "text/html": [
              "\n",
              "  <div id=\"df-d1185635-1086-4420-a489-4b48d00863f3\" class=\"colab-df-container\">\n",
              "    <div>\n",
              "<style scoped>\n",
              "    .dataframe tbody tr th:only-of-type {\n",
              "        vertical-align: middle;\n",
              "    }\n",
              "\n",
              "    .dataframe tbody tr th {\n",
              "        vertical-align: top;\n",
              "    }\n",
              "\n",
              "    .dataframe thead th {\n",
              "        text-align: right;\n",
              "    }\n",
              "</style>\n",
              "<table border=\"1\" class=\"dataframe\">\n",
              "  <thead>\n",
              "    <tr style=\"text-align: right;\">\n",
              "      <th></th>\n",
              "      <th>work_year</th>\n",
              "      <th>salary</th>\n",
              "      <th>salary_in_usd</th>\n",
              "      <th>remote_ratio</th>\n",
              "    </tr>\n",
              "  </thead>\n",
              "  <tbody>\n",
              "    <tr>\n",
              "      <th>count</th>\n",
              "      <td>575.00</td>\n",
              "      <td>575.00</td>\n",
              "      <td>575.00</td>\n",
              "      <td>575.00</td>\n",
              "    </tr>\n",
              "    <tr>\n",
              "      <th>mean</th>\n",
              "      <td>2021.37</td>\n",
              "      <td>334434.87</td>\n",
              "      <td>109883.75</td>\n",
              "      <td>70.09</td>\n",
              "    </tr>\n",
              "    <tr>\n",
              "      <th>std</th>\n",
              "      <td>0.70</td>\n",
              "      <td>1586130.85</td>\n",
              "      <td>71140.96</td>\n",
              "      <td>40.91</td>\n",
              "    </tr>\n",
              "    <tr>\n",
              "      <th>min</th>\n",
              "      <td>2020.00</td>\n",
              "      <td>4000.00</td>\n",
              "      <td>2859.00</td>\n",
              "      <td>0.00</td>\n",
              "    </tr>\n",
              "    <tr>\n",
              "      <th>25%</th>\n",
              "      <td>2021.00</td>\n",
              "      <td>68500.00</td>\n",
              "      <td>61733.50</td>\n",
              "      <td>50.00</td>\n",
              "    </tr>\n",
              "    <tr>\n",
              "      <th>50%</th>\n",
              "      <td>2021.00</td>\n",
              "      <td>112300.00</td>\n",
              "      <td>100000.00</td>\n",
              "      <td>100.00</td>\n",
              "    </tr>\n",
              "    <tr>\n",
              "      <th>75%</th>\n",
              "      <td>2022.00</td>\n",
              "      <td>165000.00</td>\n",
              "      <td>147400.00</td>\n",
              "      <td>100.00</td>\n",
              "    </tr>\n",
              "    <tr>\n",
              "      <th>max</th>\n",
              "      <td>2022.00</td>\n",
              "      <td>30400000.00</td>\n",
              "      <td>600000.00</td>\n",
              "      <td>100.00</td>\n",
              "    </tr>\n",
              "  </tbody>\n",
              "</table>\n",
              "</div>\n",
              "    <div class=\"colab-df-buttons\">\n",
              "\n",
              "  <div class=\"colab-df-container\">\n",
              "    <button class=\"colab-df-convert\" onclick=\"convertToInteractive('df-d1185635-1086-4420-a489-4b48d00863f3')\"\n",
              "            title=\"Convert this dataframe to an interactive table.\"\n",
              "            style=\"display:none;\">\n",
              "\n",
              "  <svg xmlns=\"http://www.w3.org/2000/svg\" height=\"24px\" viewBox=\"0 -960 960 960\">\n",
              "    <path d=\"M120-120v-720h720v720H120Zm60-500h600v-160H180v160Zm220 220h160v-160H400v160Zm0 220h160v-160H400v160ZM180-400h160v-160H180v160Zm440 0h160v-160H620v160ZM180-180h160v-160H180v160Zm440 0h160v-160H620v160Z\"/>\n",
              "  </svg>\n",
              "    </button>\n",
              "\n",
              "  <style>\n",
              "    .colab-df-container {\n",
              "      display:flex;\n",
              "      gap: 12px;\n",
              "    }\n",
              "\n",
              "    .colab-df-convert {\n",
              "      background-color: #E8F0FE;\n",
              "      border: none;\n",
              "      border-radius: 50%;\n",
              "      cursor: pointer;\n",
              "      display: none;\n",
              "      fill: #1967D2;\n",
              "      height: 32px;\n",
              "      padding: 0 0 0 0;\n",
              "      width: 32px;\n",
              "    }\n",
              "\n",
              "    .colab-df-convert:hover {\n",
              "      background-color: #E2EBFA;\n",
              "      box-shadow: 0px 1px 2px rgba(60, 64, 67, 0.3), 0px 1px 3px 1px rgba(60, 64, 67, 0.15);\n",
              "      fill: #174EA6;\n",
              "    }\n",
              "\n",
              "    .colab-df-buttons div {\n",
              "      margin-bottom: 4px;\n",
              "    }\n",
              "\n",
              "    [theme=dark] .colab-df-convert {\n",
              "      background-color: #3B4455;\n",
              "      fill: #D2E3FC;\n",
              "    }\n",
              "\n",
              "    [theme=dark] .colab-df-convert:hover {\n",
              "      background-color: #434B5C;\n",
              "      box-shadow: 0px 1px 3px 1px rgba(0, 0, 0, 0.15);\n",
              "      filter: drop-shadow(0px 1px 2px rgba(0, 0, 0, 0.3));\n",
              "      fill: #FFFFFF;\n",
              "    }\n",
              "  </style>\n",
              "\n",
              "    <script>\n",
              "      const buttonEl =\n",
              "        document.querySelector('#df-d1185635-1086-4420-a489-4b48d00863f3 button.colab-df-convert');\n",
              "      buttonEl.style.display =\n",
              "        google.colab.kernel.accessAllowed ? 'block' : 'none';\n",
              "\n",
              "      async function convertToInteractive(key) {\n",
              "        const element = document.querySelector('#df-d1185635-1086-4420-a489-4b48d00863f3');\n",
              "        const dataTable =\n",
              "          await google.colab.kernel.invokeFunction('convertToInteractive',\n",
              "                                                    [key], {});\n",
              "        if (!dataTable) return;\n",
              "\n",
              "        const docLinkHtml = 'Like what you see? Visit the ' +\n",
              "          '<a target=\"_blank\" href=https://colab.research.google.com/notebooks/data_table.ipynb>data table notebook</a>'\n",
              "          + ' to learn more about interactive tables.';\n",
              "        element.innerHTML = '';\n",
              "        dataTable['output_type'] = 'display_data';\n",
              "        await google.colab.output.renderOutput(dataTable, element);\n",
              "        const docLink = document.createElement('div');\n",
              "        docLink.innerHTML = docLinkHtml;\n",
              "        element.appendChild(docLink);\n",
              "      }\n",
              "    </script>\n",
              "  </div>\n",
              "\n",
              "\n",
              "<div id=\"df-1ef8c746-6c3e-4cd4-90a5-f28fda7576f3\">\n",
              "  <button class=\"colab-df-quickchart\" onclick=\"quickchart('df-1ef8c746-6c3e-4cd4-90a5-f28fda7576f3')\"\n",
              "            title=\"Suggest charts.\"\n",
              "            style=\"display:none;\">\n",
              "\n",
              "<svg xmlns=\"http://www.w3.org/2000/svg\" height=\"24px\"viewBox=\"0 0 24 24\"\n",
              "     width=\"24px\">\n",
              "    <g>\n",
              "        <path d=\"M19 3H5c-1.1 0-2 .9-2 2v14c0 1.1.9 2 2 2h14c1.1 0 2-.9 2-2V5c0-1.1-.9-2-2-2zM9 17H7v-7h2v7zm4 0h-2V7h2v10zm4 0h-2v-4h2v4z\"/>\n",
              "    </g>\n",
              "</svg>\n",
              "  </button>\n",
              "\n",
              "<style>\n",
              "  .colab-df-quickchart {\n",
              "      --bg-color: #E8F0FE;\n",
              "      --fill-color: #1967D2;\n",
              "      --hover-bg-color: #E2EBFA;\n",
              "      --hover-fill-color: #174EA6;\n",
              "      --disabled-fill-color: #AAA;\n",
              "      --disabled-bg-color: #DDD;\n",
              "  }\n",
              "\n",
              "  [theme=dark] .colab-df-quickchart {\n",
              "      --bg-color: #3B4455;\n",
              "      --fill-color: #D2E3FC;\n",
              "      --hover-bg-color: #434B5C;\n",
              "      --hover-fill-color: #FFFFFF;\n",
              "      --disabled-bg-color: #3B4455;\n",
              "      --disabled-fill-color: #666;\n",
              "  }\n",
              "\n",
              "  .colab-df-quickchart {\n",
              "    background-color: var(--bg-color);\n",
              "    border: none;\n",
              "    border-radius: 50%;\n",
              "    cursor: pointer;\n",
              "    display: none;\n",
              "    fill: var(--fill-color);\n",
              "    height: 32px;\n",
              "    padding: 0;\n",
              "    width: 32px;\n",
              "  }\n",
              "\n",
              "  .colab-df-quickchart:hover {\n",
              "    background-color: var(--hover-bg-color);\n",
              "    box-shadow: 0 1px 2px rgba(60, 64, 67, 0.3), 0 1px 3px 1px rgba(60, 64, 67, 0.15);\n",
              "    fill: var(--button-hover-fill-color);\n",
              "  }\n",
              "\n",
              "  .colab-df-quickchart-complete:disabled,\n",
              "  .colab-df-quickchart-complete:disabled:hover {\n",
              "    background-color: var(--disabled-bg-color);\n",
              "    fill: var(--disabled-fill-color);\n",
              "    box-shadow: none;\n",
              "  }\n",
              "\n",
              "  .colab-df-spinner {\n",
              "    border: 2px solid var(--fill-color);\n",
              "    border-color: transparent;\n",
              "    border-bottom-color: var(--fill-color);\n",
              "    animation:\n",
              "      spin 1s steps(1) infinite;\n",
              "  }\n",
              "\n",
              "  @keyframes spin {\n",
              "    0% {\n",
              "      border-color: transparent;\n",
              "      border-bottom-color: var(--fill-color);\n",
              "      border-left-color: var(--fill-color);\n",
              "    }\n",
              "    20% {\n",
              "      border-color: transparent;\n",
              "      border-left-color: var(--fill-color);\n",
              "      border-top-color: var(--fill-color);\n",
              "    }\n",
              "    30% {\n",
              "      border-color: transparent;\n",
              "      border-left-color: var(--fill-color);\n",
              "      border-top-color: var(--fill-color);\n",
              "      border-right-color: var(--fill-color);\n",
              "    }\n",
              "    40% {\n",
              "      border-color: transparent;\n",
              "      border-right-color: var(--fill-color);\n",
              "      border-top-color: var(--fill-color);\n",
              "    }\n",
              "    60% {\n",
              "      border-color: transparent;\n",
              "      border-right-color: var(--fill-color);\n",
              "    }\n",
              "    80% {\n",
              "      border-color: transparent;\n",
              "      border-right-color: var(--fill-color);\n",
              "      border-bottom-color: var(--fill-color);\n",
              "    }\n",
              "    90% {\n",
              "      border-color: transparent;\n",
              "      border-bottom-color: var(--fill-color);\n",
              "    }\n",
              "  }\n",
              "</style>\n",
              "\n",
              "  <script>\n",
              "    async function quickchart(key) {\n",
              "      const quickchartButtonEl =\n",
              "        document.querySelector('#' + key + ' button');\n",
              "      quickchartButtonEl.disabled = true;  // To prevent multiple clicks.\n",
              "      quickchartButtonEl.classList.add('colab-df-spinner');\n",
              "      try {\n",
              "        const charts = await google.colab.kernel.invokeFunction(\n",
              "            'suggestCharts', [key], {});\n",
              "      } catch (error) {\n",
              "        console.error('Error during call to suggestCharts:', error);\n",
              "      }\n",
              "      quickchartButtonEl.classList.remove('colab-df-spinner');\n",
              "      quickchartButtonEl.classList.add('colab-df-quickchart-complete');\n",
              "    }\n",
              "    (() => {\n",
              "      let quickchartButtonEl =\n",
              "        document.querySelector('#df-1ef8c746-6c3e-4cd4-90a5-f28fda7576f3 button');\n",
              "      quickchartButtonEl.style.display =\n",
              "        google.colab.kernel.accessAllowed ? 'block' : 'none';\n",
              "    })();\n",
              "  </script>\n",
              "</div>\n",
              "    </div>\n",
              "  </div>\n"
            ]
          },
          "metadata": {},
          "execution_count": 75
        }
      ]
    },
    {
      "cell_type": "code",
      "source": [
        "stats =  copy_data.describe()\n",
        "stats.loc[['mean','min','max']]"
      ],
      "metadata": {
        "colab": {
          "base_uri": "https://localhost:8080/",
          "height": 143
        },
        "id": "x4vEyI2ScdsJ",
        "outputId": "bf015603-8c37-4b00-d4f3-da33c9bfbc46"
      },
      "execution_count": 77,
      "outputs": [
        {
          "output_type": "execute_result",
          "data": {
            "text/plain": [
              "        work_year        salary  salary_in_usd  remote_ratio\n",
              "mean  2021.373913  3.344349e+05  109883.749565     70.086957\n",
              "min   2020.000000  4.000000e+03    2859.000000      0.000000\n",
              "max   2022.000000  3.040000e+07  600000.000000    100.000000"
            ],
            "text/html": [
              "\n",
              "  <div id=\"df-9e01eb64-de4d-49ae-9a1f-5793c86a52f1\" class=\"colab-df-container\">\n",
              "    <div>\n",
              "<style scoped>\n",
              "    .dataframe tbody tr th:only-of-type {\n",
              "        vertical-align: middle;\n",
              "    }\n",
              "\n",
              "    .dataframe tbody tr th {\n",
              "        vertical-align: top;\n",
              "    }\n",
              "\n",
              "    .dataframe thead th {\n",
              "        text-align: right;\n",
              "    }\n",
              "</style>\n",
              "<table border=\"1\" class=\"dataframe\">\n",
              "  <thead>\n",
              "    <tr style=\"text-align: right;\">\n",
              "      <th></th>\n",
              "      <th>work_year</th>\n",
              "      <th>salary</th>\n",
              "      <th>salary_in_usd</th>\n",
              "      <th>remote_ratio</th>\n",
              "    </tr>\n",
              "  </thead>\n",
              "  <tbody>\n",
              "    <tr>\n",
              "      <th>mean</th>\n",
              "      <td>2021.373913</td>\n",
              "      <td>3.344349e+05</td>\n",
              "      <td>109883.749565</td>\n",
              "      <td>70.086957</td>\n",
              "    </tr>\n",
              "    <tr>\n",
              "      <th>min</th>\n",
              "      <td>2020.000000</td>\n",
              "      <td>4.000000e+03</td>\n",
              "      <td>2859.000000</td>\n",
              "      <td>0.000000</td>\n",
              "    </tr>\n",
              "    <tr>\n",
              "      <th>max</th>\n",
              "      <td>2022.000000</td>\n",
              "      <td>3.040000e+07</td>\n",
              "      <td>600000.000000</td>\n",
              "      <td>100.000000</td>\n",
              "    </tr>\n",
              "  </tbody>\n",
              "</table>\n",
              "</div>\n",
              "    <div class=\"colab-df-buttons\">\n",
              "\n",
              "  <div class=\"colab-df-container\">\n",
              "    <button class=\"colab-df-convert\" onclick=\"convertToInteractive('df-9e01eb64-de4d-49ae-9a1f-5793c86a52f1')\"\n",
              "            title=\"Convert this dataframe to an interactive table.\"\n",
              "            style=\"display:none;\">\n",
              "\n",
              "  <svg xmlns=\"http://www.w3.org/2000/svg\" height=\"24px\" viewBox=\"0 -960 960 960\">\n",
              "    <path d=\"M120-120v-720h720v720H120Zm60-500h600v-160H180v160Zm220 220h160v-160H400v160Zm0 220h160v-160H400v160ZM180-400h160v-160H180v160Zm440 0h160v-160H620v160ZM180-180h160v-160H180v160Zm440 0h160v-160H620v160Z\"/>\n",
              "  </svg>\n",
              "    </button>\n",
              "\n",
              "  <style>\n",
              "    .colab-df-container {\n",
              "      display:flex;\n",
              "      gap: 12px;\n",
              "    }\n",
              "\n",
              "    .colab-df-convert {\n",
              "      background-color: #E8F0FE;\n",
              "      border: none;\n",
              "      border-radius: 50%;\n",
              "      cursor: pointer;\n",
              "      display: none;\n",
              "      fill: #1967D2;\n",
              "      height: 32px;\n",
              "      padding: 0 0 0 0;\n",
              "      width: 32px;\n",
              "    }\n",
              "\n",
              "    .colab-df-convert:hover {\n",
              "      background-color: #E2EBFA;\n",
              "      box-shadow: 0px 1px 2px rgba(60, 64, 67, 0.3), 0px 1px 3px 1px rgba(60, 64, 67, 0.15);\n",
              "      fill: #174EA6;\n",
              "    }\n",
              "\n",
              "    .colab-df-buttons div {\n",
              "      margin-bottom: 4px;\n",
              "    }\n",
              "\n",
              "    [theme=dark] .colab-df-convert {\n",
              "      background-color: #3B4455;\n",
              "      fill: #D2E3FC;\n",
              "    }\n",
              "\n",
              "    [theme=dark] .colab-df-convert:hover {\n",
              "      background-color: #434B5C;\n",
              "      box-shadow: 0px 1px 3px 1px rgba(0, 0, 0, 0.15);\n",
              "      filter: drop-shadow(0px 1px 2px rgba(0, 0, 0, 0.3));\n",
              "      fill: #FFFFFF;\n",
              "    }\n",
              "  </style>\n",
              "\n",
              "    <script>\n",
              "      const buttonEl =\n",
              "        document.querySelector('#df-9e01eb64-de4d-49ae-9a1f-5793c86a52f1 button.colab-df-convert');\n",
              "      buttonEl.style.display =\n",
              "        google.colab.kernel.accessAllowed ? 'block' : 'none';\n",
              "\n",
              "      async function convertToInteractive(key) {\n",
              "        const element = document.querySelector('#df-9e01eb64-de4d-49ae-9a1f-5793c86a52f1');\n",
              "        const dataTable =\n",
              "          await google.colab.kernel.invokeFunction('convertToInteractive',\n",
              "                                                    [key], {});\n",
              "        if (!dataTable) return;\n",
              "\n",
              "        const docLinkHtml = 'Like what you see? Visit the ' +\n",
              "          '<a target=\"_blank\" href=https://colab.research.google.com/notebooks/data_table.ipynb>data table notebook</a>'\n",
              "          + ' to learn more about interactive tables.';\n",
              "        element.innerHTML = '';\n",
              "        dataTable['output_type'] = 'display_data';\n",
              "        await google.colab.output.renderOutput(dataTable, element);\n",
              "        const docLink = document.createElement('div');\n",
              "        docLink.innerHTML = docLinkHtml;\n",
              "        element.appendChild(docLink);\n",
              "      }\n",
              "    </script>\n",
              "  </div>\n",
              "\n",
              "\n",
              "<div id=\"df-c81ef3ed-ad56-489f-abc1-5b9d12e3716f\">\n",
              "  <button class=\"colab-df-quickchart\" onclick=\"quickchart('df-c81ef3ed-ad56-489f-abc1-5b9d12e3716f')\"\n",
              "            title=\"Suggest charts.\"\n",
              "            style=\"display:none;\">\n",
              "\n",
              "<svg xmlns=\"http://www.w3.org/2000/svg\" height=\"24px\"viewBox=\"0 0 24 24\"\n",
              "     width=\"24px\">\n",
              "    <g>\n",
              "        <path d=\"M19 3H5c-1.1 0-2 .9-2 2v14c0 1.1.9 2 2 2h14c1.1 0 2-.9 2-2V5c0-1.1-.9-2-2-2zM9 17H7v-7h2v7zm4 0h-2V7h2v10zm4 0h-2v-4h2v4z\"/>\n",
              "    </g>\n",
              "</svg>\n",
              "  </button>\n",
              "\n",
              "<style>\n",
              "  .colab-df-quickchart {\n",
              "      --bg-color: #E8F0FE;\n",
              "      --fill-color: #1967D2;\n",
              "      --hover-bg-color: #E2EBFA;\n",
              "      --hover-fill-color: #174EA6;\n",
              "      --disabled-fill-color: #AAA;\n",
              "      --disabled-bg-color: #DDD;\n",
              "  }\n",
              "\n",
              "  [theme=dark] .colab-df-quickchart {\n",
              "      --bg-color: #3B4455;\n",
              "      --fill-color: #D2E3FC;\n",
              "      --hover-bg-color: #434B5C;\n",
              "      --hover-fill-color: #FFFFFF;\n",
              "      --disabled-bg-color: #3B4455;\n",
              "      --disabled-fill-color: #666;\n",
              "  }\n",
              "\n",
              "  .colab-df-quickchart {\n",
              "    background-color: var(--bg-color);\n",
              "    border: none;\n",
              "    border-radius: 50%;\n",
              "    cursor: pointer;\n",
              "    display: none;\n",
              "    fill: var(--fill-color);\n",
              "    height: 32px;\n",
              "    padding: 0;\n",
              "    width: 32px;\n",
              "  }\n",
              "\n",
              "  .colab-df-quickchart:hover {\n",
              "    background-color: var(--hover-bg-color);\n",
              "    box-shadow: 0 1px 2px rgba(60, 64, 67, 0.3), 0 1px 3px 1px rgba(60, 64, 67, 0.15);\n",
              "    fill: var(--button-hover-fill-color);\n",
              "  }\n",
              "\n",
              "  .colab-df-quickchart-complete:disabled,\n",
              "  .colab-df-quickchart-complete:disabled:hover {\n",
              "    background-color: var(--disabled-bg-color);\n",
              "    fill: var(--disabled-fill-color);\n",
              "    box-shadow: none;\n",
              "  }\n",
              "\n",
              "  .colab-df-spinner {\n",
              "    border: 2px solid var(--fill-color);\n",
              "    border-color: transparent;\n",
              "    border-bottom-color: var(--fill-color);\n",
              "    animation:\n",
              "      spin 1s steps(1) infinite;\n",
              "  }\n",
              "\n",
              "  @keyframes spin {\n",
              "    0% {\n",
              "      border-color: transparent;\n",
              "      border-bottom-color: var(--fill-color);\n",
              "      border-left-color: var(--fill-color);\n",
              "    }\n",
              "    20% {\n",
              "      border-color: transparent;\n",
              "      border-left-color: var(--fill-color);\n",
              "      border-top-color: var(--fill-color);\n",
              "    }\n",
              "    30% {\n",
              "      border-color: transparent;\n",
              "      border-left-color: var(--fill-color);\n",
              "      border-top-color: var(--fill-color);\n",
              "      border-right-color: var(--fill-color);\n",
              "    }\n",
              "    40% {\n",
              "      border-color: transparent;\n",
              "      border-right-color: var(--fill-color);\n",
              "      border-top-color: var(--fill-color);\n",
              "    }\n",
              "    60% {\n",
              "      border-color: transparent;\n",
              "      border-right-color: var(--fill-color);\n",
              "    }\n",
              "    80% {\n",
              "      border-color: transparent;\n",
              "      border-right-color: var(--fill-color);\n",
              "      border-bottom-color: var(--fill-color);\n",
              "    }\n",
              "    90% {\n",
              "      border-color: transparent;\n",
              "      border-bottom-color: var(--fill-color);\n",
              "    }\n",
              "  }\n",
              "</style>\n",
              "\n",
              "  <script>\n",
              "    async function quickchart(key) {\n",
              "      const quickchartButtonEl =\n",
              "        document.querySelector('#' + key + ' button');\n",
              "      quickchartButtonEl.disabled = true;  // To prevent multiple clicks.\n",
              "      quickchartButtonEl.classList.add('colab-df-spinner');\n",
              "      try {\n",
              "        const charts = await google.colab.kernel.invokeFunction(\n",
              "            'suggestCharts', [key], {});\n",
              "      } catch (error) {\n",
              "        console.error('Error during call to suggestCharts:', error);\n",
              "      }\n",
              "      quickchartButtonEl.classList.remove('colab-df-spinner');\n",
              "      quickchartButtonEl.classList.add('colab-df-quickchart-complete');\n",
              "    }\n",
              "    (() => {\n",
              "      let quickchartButtonEl =\n",
              "        document.querySelector('#df-c81ef3ed-ad56-489f-abc1-5b9d12e3716f button');\n",
              "      quickchartButtonEl.style.display =\n",
              "        google.colab.kernel.accessAllowed ? 'block' : 'none';\n",
              "    })();\n",
              "  </script>\n",
              "</div>\n",
              "    </div>\n",
              "  </div>\n"
            ]
          },
          "metadata": {},
          "execution_count": 77
        }
      ]
    },
    {
      "cell_type": "code",
      "source": [
        "max_sal = copy_data['salary'] == 30400000.00\n",
        "copy_data[max_sal]"
      ],
      "metadata": {
        "colab": {
          "base_uri": "https://localhost:8080/",
          "height": 118
        },
        "id": "kmbkrwIycke1",
        "outputId": "c9ef22dd-c9e4-4ce3-d28d-c2b04dccaf9b"
      },
      "execution_count": 78,
      "outputs": [
        {
          "output_type": "execute_result",
          "data": {
            "text/plain": [
              "     work_year experience_level employment_type       job_title    salary  \\\n",
              "177       2021     Intermediate       Full-Time  Data Scientist  30400000   \n",
              "\n",
              "    salary_currency  salary_in_usd employee_residence  remote_ratio  \\\n",
              "177             CLP        40038.0                 CL           100   \n",
              "\n",
              "    company_location company_size  \n",
              "177               CL            L  "
            ],
            "text/html": [
              "\n",
              "  <div id=\"df-02b10fd3-c9b3-4d78-bf0e-b4d2d5058cb9\" class=\"colab-df-container\">\n",
              "    <div>\n",
              "<style scoped>\n",
              "    .dataframe tbody tr th:only-of-type {\n",
              "        vertical-align: middle;\n",
              "    }\n",
              "\n",
              "    .dataframe tbody tr th {\n",
              "        vertical-align: top;\n",
              "    }\n",
              "\n",
              "    .dataframe thead th {\n",
              "        text-align: right;\n",
              "    }\n",
              "</style>\n",
              "<table border=\"1\" class=\"dataframe\">\n",
              "  <thead>\n",
              "    <tr style=\"text-align: right;\">\n",
              "      <th></th>\n",
              "      <th>work_year</th>\n",
              "      <th>experience_level</th>\n",
              "      <th>employment_type</th>\n",
              "      <th>job_title</th>\n",
              "      <th>salary</th>\n",
              "      <th>salary_currency</th>\n",
              "      <th>salary_in_usd</th>\n",
              "      <th>employee_residence</th>\n",
              "      <th>remote_ratio</th>\n",
              "      <th>company_location</th>\n",
              "      <th>company_size</th>\n",
              "    </tr>\n",
              "  </thead>\n",
              "  <tbody>\n",
              "    <tr>\n",
              "      <th>177</th>\n",
              "      <td>2021</td>\n",
              "      <td>Intermediate</td>\n",
              "      <td>Full-Time</td>\n",
              "      <td>Data Scientist</td>\n",
              "      <td>30400000</td>\n",
              "      <td>CLP</td>\n",
              "      <td>40038.0</td>\n",
              "      <td>CL</td>\n",
              "      <td>100</td>\n",
              "      <td>CL</td>\n",
              "      <td>L</td>\n",
              "    </tr>\n",
              "  </tbody>\n",
              "</table>\n",
              "</div>\n",
              "    <div class=\"colab-df-buttons\">\n",
              "\n",
              "  <div class=\"colab-df-container\">\n",
              "    <button class=\"colab-df-convert\" onclick=\"convertToInteractive('df-02b10fd3-c9b3-4d78-bf0e-b4d2d5058cb9')\"\n",
              "            title=\"Convert this dataframe to an interactive table.\"\n",
              "            style=\"display:none;\">\n",
              "\n",
              "  <svg xmlns=\"http://www.w3.org/2000/svg\" height=\"24px\" viewBox=\"0 -960 960 960\">\n",
              "    <path d=\"M120-120v-720h720v720H120Zm60-500h600v-160H180v160Zm220 220h160v-160H400v160Zm0 220h160v-160H400v160ZM180-400h160v-160H180v160Zm440 0h160v-160H620v160ZM180-180h160v-160H180v160Zm440 0h160v-160H620v160Z\"/>\n",
              "  </svg>\n",
              "    </button>\n",
              "\n",
              "  <style>\n",
              "    .colab-df-container {\n",
              "      display:flex;\n",
              "      gap: 12px;\n",
              "    }\n",
              "\n",
              "    .colab-df-convert {\n",
              "      background-color: #E8F0FE;\n",
              "      border: none;\n",
              "      border-radius: 50%;\n",
              "      cursor: pointer;\n",
              "      display: none;\n",
              "      fill: #1967D2;\n",
              "      height: 32px;\n",
              "      padding: 0 0 0 0;\n",
              "      width: 32px;\n",
              "    }\n",
              "\n",
              "    .colab-df-convert:hover {\n",
              "      background-color: #E2EBFA;\n",
              "      box-shadow: 0px 1px 2px rgba(60, 64, 67, 0.3), 0px 1px 3px 1px rgba(60, 64, 67, 0.15);\n",
              "      fill: #174EA6;\n",
              "    }\n",
              "\n",
              "    .colab-df-buttons div {\n",
              "      margin-bottom: 4px;\n",
              "    }\n",
              "\n",
              "    [theme=dark] .colab-df-convert {\n",
              "      background-color: #3B4455;\n",
              "      fill: #D2E3FC;\n",
              "    }\n",
              "\n",
              "    [theme=dark] .colab-df-convert:hover {\n",
              "      background-color: #434B5C;\n",
              "      box-shadow: 0px 1px 3px 1px rgba(0, 0, 0, 0.15);\n",
              "      filter: drop-shadow(0px 1px 2px rgba(0, 0, 0, 0.3));\n",
              "      fill: #FFFFFF;\n",
              "    }\n",
              "  </style>\n",
              "\n",
              "    <script>\n",
              "      const buttonEl =\n",
              "        document.querySelector('#df-02b10fd3-c9b3-4d78-bf0e-b4d2d5058cb9 button.colab-df-convert');\n",
              "      buttonEl.style.display =\n",
              "        google.colab.kernel.accessAllowed ? 'block' : 'none';\n",
              "\n",
              "      async function convertToInteractive(key) {\n",
              "        const element = document.querySelector('#df-02b10fd3-c9b3-4d78-bf0e-b4d2d5058cb9');\n",
              "        const dataTable =\n",
              "          await google.colab.kernel.invokeFunction('convertToInteractive',\n",
              "                                                    [key], {});\n",
              "        if (!dataTable) return;\n",
              "\n",
              "        const docLinkHtml = 'Like what you see? Visit the ' +\n",
              "          '<a target=\"_blank\" href=https://colab.research.google.com/notebooks/data_table.ipynb>data table notebook</a>'\n",
              "          + ' to learn more about interactive tables.';\n",
              "        element.innerHTML = '';\n",
              "        dataTable['output_type'] = 'display_data';\n",
              "        await google.colab.output.renderOutput(dataTable, element);\n",
              "        const docLink = document.createElement('div');\n",
              "        docLink.innerHTML = docLinkHtml;\n",
              "        element.appendChild(docLink);\n",
              "      }\n",
              "    </script>\n",
              "  </div>\n",
              "\n",
              "    </div>\n",
              "  </div>\n"
            ]
          },
          "metadata": {},
          "execution_count": 78
        }
      ]
    }
  ]
}